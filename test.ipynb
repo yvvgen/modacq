{
 "cells": [
  {
   "cell_type": "code",
   "execution_count": 91,
   "metadata": {},
   "outputs": [],
   "source": [
    "import keras.layers as layers\n",
    "from keras.models import Sequential, Model\n",
    "import tensorflow as tf\n",
    "import numpy as np\n",
    "import matplotlib.pyplot as plt\n",
    "import keras.backend as K\n",
    "from simpler_utils import load_data\n",
    "import h5py\n",
    "from tqdm import tqdm"
   ]
  },
  {
   "cell_type": "code",
   "execution_count": 2,
   "metadata": {},
   "outputs": [
    {
     "name": "stdout",
     "output_type": "stream",
     "text": [
      "Num GPUs Available:  1\n"
     ]
    }
   ],
   "source": [
    "print(\"Num GPUs Available: \", len(tf.config.list_physical_devices('GPU')))"
   ]
  },
  {
   "cell_type": "code",
   "execution_count": 41,
   "metadata": {},
   "outputs": [],
   "source": [
    "meta_path = './meta.csv'\n",
    "features_path = './data/features.h5'\n",
    "\n",
    "X_train, y_train, true_labels, modac, data_size = load_data(features_path, meta_path, 'Train')\n",
    "modac = np.array(modac)\n",
    "true_labels = np.array(true_labels)"
   ]
  },
  {
   "cell_type": "code",
   "execution_count": 8,
   "metadata": {},
   "outputs": [
    {
     "name": "stdout",
     "output_type": "stream",
     "text": [
      "Modac has 139620 elements\n",
      "Modac elements are of type <class 'str'>\n",
      "Modac elements look like \"a\"\n",
      "Are X_train and modac the same size? True\n",
      "\n",
      "True labels has 139620 elements\n",
      "True labels elements are of type <class 'str'>\n",
      "True labels elements look like \"airport\"\n",
      "Are X_train and true_labels the same size? True\n",
      "\n"
     ]
    }
   ],
   "source": [
    "print(f'Modac has {len(modac)} elements')\n",
    "print(f'Modac elements are of type {type(modac[0])}')\n",
    "print(f'Modac elements look like \"{modac[0]}\"')\n",
    "print(f'Are X_train and modac the same size? {len(X_train) == len(modac)}\\n')\n",
    "\n",
    "print(f'True labels has {len(true_labels)} elements')\n",
    "print(f'True labels elements are of type {type(true_labels[0])}')\n",
    "print(f'True labels elements look like \"{true_labels[0]}\"')\n",
    "print(f'Are X_train and true_labels the same size? {len(X_train) == len(true_labels)}\\n')"
   ]
  },
  {
   "cell_type": "code",
   "execution_count": 5,
   "metadata": {},
   "outputs": [
    {
     "name": "stdout",
     "output_type": "stream",
     "text": [
      "There are 10 scene labels\n",
      "The scene labels are ['airport' 'bus' 'metro' 'metro_station' 'park' 'public_square'\n",
      " 'shopping_mall' 'street_pedestrian' 'street_traffic' 'tram']\n"
     ]
    }
   ],
   "source": [
    "scene_labels = np.unique(true_labels)\n",
    "print(f'There are {len(scene_labels)} scene labels')\n",
    "print(f'The scene labels are {scene_labels}')"
   ]
  },
  {
   "cell_type": "code",
   "execution_count": 7,
   "metadata": {},
   "outputs": [
    {
     "name": "stdout",
     "output_type": "stream",
     "text": [
      "There are 6 modac labels\n",
      "Modac labels are ['a' 'b' 'c' 's1' 's2' 's3']\n"
     ]
    }
   ],
   "source": [
    "modac_labels = np.unique(modac)\n",
    "print(f'There are {len(modac_labels)} modac labels')\n",
    "print(f'Modac labels are {modac_labels}')"
   ]
  },
  {
   "cell_type": "code",
   "execution_count": 10,
   "metadata": {},
   "outputs": [],
   "source": [
    "model = tf.keras.models.load_model('data/base_model/model.tflite')"
   ]
  },
  {
   "cell_type": "code",
   "execution_count": 11,
   "metadata": {},
   "outputs": [
    {
     "name": "stdout",
     "output_type": "stream",
     "text": [
      "Model: \"sequential\"\n",
      "_________________________________________________________________\n",
      "Layer (type)                 Output Shape              Param #   \n",
      "=================================================================\n",
      "conv2d (Conv2D)              (None, 40, 51, 16)        800       \n",
      "_________________________________________________________________\n",
      "batch_normalization (BatchNo (None, 40, 51, 16)        64        \n",
      "_________________________________________________________________\n",
      "activation (Activation)      (None, 40, 51, 16)        0         \n",
      "_________________________________________________________________\n",
      "conv2d_1 (Conv2D)            (None, 40, 51, 16)        12560     \n",
      "_________________________________________________________________\n",
      "batch_normalization_1 (Batch (None, 40, 51, 16)        64        \n",
      "_________________________________________________________________\n",
      "activation_1 (Activation)    (None, 40, 51, 16)        0         \n",
      "_________________________________________________________________\n",
      "max_pooling2d (MaxPooling2D) (None, 8, 10, 16)         0         \n",
      "_________________________________________________________________\n",
      "dropout (Dropout)            (None, 8, 10, 16)         0         \n",
      "_________________________________________________________________\n",
      "conv2d_2 (Conv2D)            (None, 8, 10, 32)         25120     \n",
      "_________________________________________________________________\n",
      "batch_normalization_2 (Batch (None, 8, 10, 32)         128       \n",
      "_________________________________________________________________\n",
      "activation_2 (Activation)    (None, 8, 10, 32)         0         \n",
      "_________________________________________________________________\n",
      "max_pooling2d_1 (MaxPooling2 (None, 2, 1, 32)          0         \n",
      "_________________________________________________________________\n",
      "dropout_1 (Dropout)          (None, 2, 1, 32)          0         \n",
      "_________________________________________________________________\n",
      "flatten (Flatten)            (None, 64)                0         \n",
      "_________________________________________________________________\n",
      "dense (Dense)                (None, 100)               6500      \n",
      "_________________________________________________________________\n",
      "dropout_2 (Dropout)          (None, 100)               0         \n",
      "_________________________________________________________________\n",
      "dense_1 (Dense)              (None, 10)                1010      \n",
      "=================================================================\n",
      "Total params: 46,246\n",
      "Trainable params: 46,118\n",
      "Non-trainable params: 128\n",
      "_________________________________________________________________\n"
     ]
    }
   ],
   "source": [
    "model.summary()"
   ]
  },
  {
   "cell_type": "code",
   "execution_count": 12,
   "metadata": {},
   "outputs": [
    {
     "name": "stdout",
     "output_type": "stream",
     "text": [
      "Prediction for first element is \"shopping_mall\"\n",
      "True label was \"airport\"\n"
     ]
    }
   ],
   "source": [
    "pred_1 = model.predict(X_train[0:1])\n",
    "print(f'Prediction for first element is \"{scene_labels[np.argmax(pred_1)]}\"')\n",
    "print(f'True label was \"{true_labels[0]}\"')"
   ]
  },
  {
   "cell_type": "code",
   "execution_count": 13,
   "metadata": {},
   "outputs": [],
   "source": [
    "y_pred = model.predict(X_train)"
   ]
  },
  {
   "cell_type": "code",
   "execution_count": 14,
   "metadata": {},
   "outputs": [],
   "source": [
    "from sklearn.metrics import confusion_matrix, classification_report, accuracy_score, f1_score, precision_score, recall_score"
   ]
  },
  {
   "cell_type": "code",
   "execution_count": 22,
   "metadata": {},
   "outputs": [],
   "source": [
    "def computeMetrics(y_true, y_pred):\n",
    "    return {\n",
    "        'accuracy': accuracy_score(y_true, y_pred),\n",
    "        'f1': f1_score(y_true, y_pred, average='weighted'),\n",
    "        'precision': precision_score(y_true, y_pred, average='weighted'),\n",
    "        'recall': recall_score(y_true, y_pred, average='weighted'),\n",
    "        'confusion_matrix': confusion_matrix(y_true, y_pred, normalize='true')\n",
    "    }"
   ]
  },
  {
   "cell_type": "code",
   "execution_count": 23,
   "metadata": {},
   "outputs": [],
   "source": [
    "overall_metrics = computeMetrics(true_labels, np.array([scene_labels[np.argmax(pred)] for pred in y_pred]))"
   ]
  },
  {
   "cell_type": "code",
   "execution_count": 36,
   "metadata": {},
   "outputs": [
    {
     "name": "stdout",
     "output_type": "stream",
     "text": [
      "accuracy       : 71.50 %\n",
      "f1             : 71.59 %\n",
      "precision      : 72.09 %\n",
      "recall         : 71.50 %\n",
      "\n",
      "confusion_matrix:\n",
      "[[0.72 0.00 0.00 0.03 0.00 0.03 0.08 0.12 0.00 0.00]\n",
      " [0.00 0.69 0.05 0.02 0.01 0.03 0.00 0.01 0.02 0.18]\n",
      " [0.00 0.05 0.66 0.07 0.01 0.01 0.00 0.01 0.02 0.16]\n",
      " [0.06 0.02 0.10 0.63 0.01 0.02 0.04 0.06 0.03 0.04]\n",
      " [0.00 0.00 0.00 0.00 0.91 0.03 0.00 0.01 0.03 0.01]\n",
      " [0.04 0.01 0.01 0.02 0.02 0.65 0.02 0.17 0.05 0.01]\n",
      " [0.14 0.00 0.00 0.05 0.00 0.03 0.69 0.08 0.00 0.00]\n",
      " [0.11 0.01 0.00 0.02 0.01 0.20 0.04 0.60 0.01 0.01]\n",
      " [0.00 0.01 0.01 0.02 0.05 0.07 0.00 0.01 0.83 0.00]\n",
      " [0.01 0.07 0.08 0.03 0.02 0.01 0.00 0.02 0.01 0.76]]\n"
     ]
    }
   ],
   "source": [
    "for key, value in overall_metrics.items():\n",
    "    if key == 'confusion_matrix':\n",
    "        displayed_values = np.array2string(value, formatter={'float_kind':lambda x: \"%.2f\" % x})\n",
    "        print(f'\\n{key}:\\n{displayed_values}')\n",
    "    else:\n",
    "        # print it with 2 decimal places and with values aligned to the right\n",
    "        print(f'{key:<15}: {100*value:.2f} %')"
   ]
  },
  {
   "cell_type": "code",
   "execution_count": 42,
   "metadata": {},
   "outputs": [],
   "source": [
    "modac_metrics = {}\n",
    "\n",
    "for label in modac_labels:\n",
    "    modac_metrics[label] = computeMetrics(true_labels[modac == label], np.array([scene_labels[np.argmax(pred)] for pred in y_pred[modac == label]]))"
   ]
  },
  {
   "cell_type": "code",
   "execution_count": 45,
   "metadata": {},
   "outputs": [
    {
     "name": "stdout",
     "output_type": "stream",
     "text": [
      "a    : 75.37 %\n",
      "b    : 56.14 %\n",
      "c    : 63.73 %\n",
      "s1   : 59.28 %\n",
      "s2   : 63.77 %\n",
      "s3   : 61.73 %\n"
     ]
    }
   ],
   "source": [
    "for label in modac_labels:\n",
    "    print(f'{label:<5}: {100*modac_metrics[label][\"accuracy\"]:.2f} %')"
   ]
  },
  {
   "attachments": {},
   "cell_type": "markdown",
   "metadata": {},
   "source": [
    "On veut ajouter le terme de régularisation suivant dans l'optimisation du modèle, si on décompose le réseau classifieur $\\Phi$ en deux parties, l'une qui s'arrête à la fin de la couche 2 de convolution et le reste, respectivement noté $\\Phi_1$ et $\\Phi_2$, tels que $\\Phi=\\Phi_2\\circ\\Phi_1$, on peut écrire le terme de régularisation comme suit:\n",
    "\n",
    "$$\n",
    "    \\mathcal{L}_{\\text{reg}}(X, y, m) := \\sum_{y_i = y_j \\atop m_i\\neq m_j}\\|\\Phi_1(x_i) - \\Phi_1(x_j)\\|_1\n",
    "$$\n",
    "\n",
    "Pour commencer on va calculer, avec le réseau déjà entrainé avec l'objectif de classification uniquement, des métriques. Notamment on va calculer le terme de régularisation pour le jeu de données d'entraînement entier."
   ]
  },
  {
   "cell_type": "code",
   "execution_count": 78,
   "metadata": {},
   "outputs": [],
   "source": [
    "model_1 = Model(\n",
    "    inputs = model.input,\n",
    "    outputs = model.get_layer('conv2d_1').output\n",
    ")\n",
    "model_1.compile()"
   ]
  },
  {
   "cell_type": "code",
   "execution_count": 80,
   "metadata": {},
   "outputs": [
    {
     "name": "stdout",
     "output_type": "stream",
     "text": [
      "Model: \"model_1\"\n",
      "_________________________________________________________________\n",
      "Layer (type)                 Output Shape              Param #   \n",
      "=================================================================\n",
      "conv2d_input (InputLayer)    [(None, 40, 51, 1)]       0         \n",
      "_________________________________________________________________\n",
      "conv2d (Conv2D)              (None, 40, 51, 16)        800       \n",
      "_________________________________________________________________\n",
      "batch_normalization (BatchNo (None, 40, 51, 16)        64        \n",
      "_________________________________________________________________\n",
      "activation (Activation)      (None, 40, 51, 16)        0         \n",
      "_________________________________________________________________\n",
      "conv2d_1 (Conv2D)            (None, 40, 51, 16)        12560     \n",
      "=================================================================\n",
      "Total params: 13,424\n",
      "Trainable params: 13,392\n",
      "Non-trainable params: 32\n",
      "_________________________________________________________________\n"
     ]
    }
   ],
   "source": [
    "model_1.summary()"
   ]
  },
  {
   "cell_type": "code",
   "execution_count": 92,
   "metadata": {},
   "outputs": [
    {
     "name": "stderr",
     "output_type": "stream",
     "text": [
      "17it [32:43, 112.75s/it]"
     ]
    }
   ],
   "source": [
    "reg_term_classif_trained = 0\n",
    "\n",
    "for i, x in tqdm(enumerate(X_train)):\n",
    "    x_loi = model_1.predict(np.array(tf.expand_dims(x, 0)))[0]\n",
    "    for j, y in enumerate(X_train):\n",
    "        if j > i:\n",
    "            if true_labels[i] == true_labels[j]:\n",
    "                if modac[i] != modac[j]:\n",
    "                    y_loi = model_1.predict(np.array(tf.expand_dims(y, 0)))[0]\n",
    "                    reg_term_classif_trained += np.sum(np.abs(x_loi - y_loi))"
   ]
  },
  {
   "cell_type": "code",
   "execution_count": null,
   "metadata": {},
   "outputs": [],
   "source": []
  }
 ],
 "metadata": {
  "kernelspec": {
   "display_name": "tf2-dcase",
   "language": "python",
   "name": "python3"
  },
  "language_info": {
   "codemirror_mode": {
    "name": "ipython",
    "version": 3
   },
   "file_extension": ".py",
   "mimetype": "text/x-python",
   "name": "python",
   "nbconvert_exporter": "python",
   "pygments_lexer": "ipython3",
   "version": "3.6.13"
  },
  "orig_nbformat": 4
 },
 "nbformat": 4,
 "nbformat_minor": 2
}
